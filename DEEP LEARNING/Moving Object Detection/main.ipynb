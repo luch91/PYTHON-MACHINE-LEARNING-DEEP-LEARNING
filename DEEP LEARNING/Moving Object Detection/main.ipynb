{
 "cells": [
  {
   "cell_type": "code",
   "execution_count": 6,
   "metadata": {},
   "outputs": [],
   "source": [
    "import numpy as np #math\n",
    "import imutils #resize the image\n",
    "import cv2 #image acq.\n",
    "import time #delay"
   ]
  },
  {
   "cell_type": "code",
   "execution_count": 7,
   "metadata": {},
   "outputs": [],
   "source": [
    "prototxt = \"MobileNetSSD_deploy.prototxt.txt\"\n",
    "model = \"MobileNetSSD_deploy.caffemodel\"\n",
    "confThresh = 0.2"
   ]
  },
  {
   "cell_type": "code",
   "execution_count": 8,
   "metadata": {},
   "outputs": [],
   "source": [
    "CLASSES = [\"background\", \"aeroplane\", \"bicycle\", \"bird\", \"boat\",\n",
    "\t\"bottle\", \"bus\", \"car\", \"cat\", \"chair\", \"cow\", \"diningtable\",\n",
    "\t\"dog\", \"horse\", \"motorbike\", \"person\", \"pottedplant\", \"sheep\",\n",
    "\t\"sofa\", \"train\", \"tvmonitor\"]\n",
    "\n",
    "COLORS = np.random.uniform(0, 255, size=(len(CLASSES), 3))\n"
   ]
  },
  {
   "cell_type": "code",
   "execution_count": 9,
   "metadata": {},
   "outputs": [
    {
     "name": "stdout",
     "output_type": "stream",
     "text": [
      "Loading model...\n"
     ]
    },
    {
     "name": "stdout",
     "output_type": "stream",
     "text": [
      "Model Loaded\n",
      "Starting Camera Feed...\n"
     ]
    }
   ],
   "source": [
    "print(\"Loading model...\")\n",
    "net = cv2.dnn.readNetFromCaffe(prototxt, model)\n",
    "print(\"Model Loaded\")\n",
    "print(\"Starting Camera Feed...\")\n",
    "vs = cv2.VideoCapture(1) #camera init.\n",
    "time.sleep(2.0)"
   ]
  },
  {
   "cell_type": "code",
   "execution_count": 10,
   "metadata": {},
   "outputs": [
    {
     "ename": "AttributeError",
     "evalue": "'NoneType' object has no attribute 'shape'",
     "output_type": "error",
     "traceback": [
      "\u001b[1;31m---------------------------------------------------------------------------\u001b[0m",
      "\u001b[1;31mAttributeError\u001b[0m                            Traceback (most recent call last)",
      "Cell \u001b[1;32mIn[10], line 3\u001b[0m\n\u001b[0;32m      1\u001b[0m \u001b[39mwhile\u001b[39;00m \u001b[39mTrue\u001b[39;00m:\n\u001b[0;32m      2\u001b[0m \t_,frame \u001b[39m=\u001b[39m vs\u001b[39m.\u001b[39mread() \u001b[39m#reading frame from the camera\u001b[39;00m\n\u001b[1;32m----> 3\u001b[0m \tframe \u001b[39m=\u001b[39m imutils\u001b[39m.\u001b[39;49mresize(frame, width\u001b[39m=\u001b[39;49m\u001b[39m500\u001b[39;49m) \u001b[39m#resize the frame to be displayed as window\u001b[39;00m\n\u001b[0;32m      4\u001b[0m \t(h, w) \u001b[39m=\u001b[39m frame\u001b[39m.\u001b[39mshape[:\u001b[39m2\u001b[39m] \u001b[39m#h w\u001b[39;00m\n\u001b[0;32m      5\u001b[0m \t\u001b[39m#preprocessing\u001b[39;00m\n",
      "File \u001b[1;32mc:\\Users\\user\\anaconda3\\lib\\site-packages\\imutils\\convenience.py:69\u001b[0m, in \u001b[0;36mresize\u001b[1;34m(image, width, height, inter)\u001b[0m\n\u001b[0;32m     65\u001b[0m \u001b[39mdef\u001b[39;00m \u001b[39mresize\u001b[39m(image, width\u001b[39m=\u001b[39m\u001b[39mNone\u001b[39;00m, height\u001b[39m=\u001b[39m\u001b[39mNone\u001b[39;00m, inter\u001b[39m=\u001b[39mcv2\u001b[39m.\u001b[39mINTER_AREA):\n\u001b[0;32m     66\u001b[0m     \u001b[39m# initialize the dimensions of the image to be resized and\u001b[39;00m\n\u001b[0;32m     67\u001b[0m     \u001b[39m# grab the image size\u001b[39;00m\n\u001b[0;32m     68\u001b[0m     dim \u001b[39m=\u001b[39m \u001b[39mNone\u001b[39;00m\n\u001b[1;32m---> 69\u001b[0m     (h, w) \u001b[39m=\u001b[39m image\u001b[39m.\u001b[39;49mshape[:\u001b[39m2\u001b[39m]\n\u001b[0;32m     71\u001b[0m     \u001b[39m# if both the width and height are None, then return the\u001b[39;00m\n\u001b[0;32m     72\u001b[0m     \u001b[39m# original image\u001b[39;00m\n\u001b[0;32m     73\u001b[0m     \u001b[39mif\u001b[39;00m width \u001b[39mis\u001b[39;00m \u001b[39mNone\u001b[39;00m \u001b[39mand\u001b[39;00m height \u001b[39mis\u001b[39;00m \u001b[39mNone\u001b[39;00m:\n",
      "\u001b[1;31mAttributeError\u001b[0m: 'NoneType' object has no attribute 'shape'"
     ]
    }
   ],
   "source": [
    "while True:\n",
    "\t_,frame = vs.read() #reading frame from the camera\n",
    "\tframe = imutils.resize(frame, width=500) #resize the frame to be displayed as window\n",
    "\t(h, w) = frame.shape[:2] #h w\n",
    "\t#preprocessing\n",
    "\timResize = cv2.resize(frame, (300, 300)) #resize\n",
    "\tblob = cv2.dnn.blobFromImage(imResize,\n",
    "\t\t0.007843, (300, 300), 127.5) #blobed image\n",
    "\n",
    "\tnet.setInput(blob) #set the blobbed image as input\n",
    "\tdetections = net.forward() #passing pre processed image into model\n",
    "\tprint(detections)\n",
    "\tdetShape = detections.shape[2]\n",
    "\tfor i in np.arange(0,detShape):\n",
    "\t\tconfidence = detections[0, 0, i, 2]\n",
    "\t\tif confidence > confThresh:     \n",
    "\t\t\tidx = int(detections[0, 0, i, 1])\n",
    "\t\t\t#print(\"ClassID:\",detections[0, 0, i, 1])\n",
    "\t\t\tbox = detections[0, 0, i, 3:7] * np.array([w, h, w, h])\n",
    "\t\t\t#print(\"boxCoord:\",detections[0, 0, i, 3:7])\n",
    "\t\t\t(startX, startY, endX, endY) = box.astype(\"int\")\n",
    "\t\t\t\n",
    "\t\t\tlabel = \"{}: {:.2f}%\".format(CLASSES[idx],\n",
    "\t\t\t\tconfidence * 100)\n",
    "\t\t\tcv2.rectangle(frame, (startX, startY), (endX, endY),\n",
    "\t\t\t\tCOLORS[idx], 2)\n",
    "\t\t\tif startY - 15 > 15:\n",
    "\t\t\t\ty = startY - 15\n",
    "\t\t\telse:\n",
    "\t\t\t\ty = startY + 15\n",
    "\t\t\tcv2.putText(frame, label, (startX, y),\n",
    "\t\t\t\tcv2.FONT_HERSHEY_SIMPLEX, 0.5, COLORS[idx], 2)\n",
    "\n",
    "\tcv2.imshow(\"Frame\", frame)\n",
    "\tkey = cv2.waitKey(1)\n",
    "\tif key == 27:\n",
    "\t\tbreak"
   ]
  },
  {
   "cell_type": "code",
   "execution_count": null,
   "metadata": {},
   "outputs": [],
   "source": [
    "vs.release()\n",
    "cv2.destroyAllWindows()"
   ]
  }
 ],
 "metadata": {
  "kernelspec": {
   "display_name": "base",
   "language": "python",
   "name": "python3"
  },
  "language_info": {
   "codemirror_mode": {
    "name": "ipython",
    "version": 3
   },
   "file_extension": ".py",
   "mimetype": "text/x-python",
   "name": "python",
   "nbconvert_exporter": "python",
   "pygments_lexer": "ipython3",
   "version": "3.10.9"
  },
  "orig_nbformat": 4
 },
 "nbformat": 4,
 "nbformat_minor": 2
}
