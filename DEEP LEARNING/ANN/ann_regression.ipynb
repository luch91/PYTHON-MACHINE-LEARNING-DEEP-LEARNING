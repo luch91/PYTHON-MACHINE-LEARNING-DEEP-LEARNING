{
 "cells": [
  {
   "cell_type": "markdown",
   "metadata": {},
   "source": [
    "## Build and train a regression model using keras\n",
    "\n",
    "Dataset : California housing dataset"
   ]
  },
  {
   "cell_type": "code",
   "execution_count": 1,
   "metadata": {},
   "outputs": [],
   "source": [
    "import numpy as np\n",
    "import pandas as pd\n",
    "%matplotlib inline\n",
    "import matplotlib as mpl\n",
    "import matplotlib.pyplot as plt"
   ]
  },
  {
   "cell_type": "code",
   "execution_count": 2,
   "metadata": {},
   "outputs": [],
   "source": [
    "import tensorflow as tf\n",
    "from tensorflow import keras"
   ]
  },
  {
   "cell_type": "code",
   "execution_count": 3,
   "metadata": {},
   "outputs": [],
   "source": [
    "from sklearn.datasets import fetch_california_housing\n",
    "housing_data = fetch_california_housing()"
   ]
  },
  {
   "cell_type": "markdown",
   "metadata": {},
   "source": [
    "### Data Set Characteristics"
   ]
  },
  {
   "cell_type": "markdown",
   "metadata": {},
   "source": [
    "#### Number of Instances\n",
    "\n",
    "20640"
   ]
  },
  {
   "cell_type": "markdown",
   "metadata": {},
   "source": [
    "#### Number of Attributes\n",
    "\n",
    "8 numeric, predictive attributes and the target"
   ]
  },
  {
   "cell_type": "markdown",
   "metadata": {},
   "source": [
    "#### Attribute Information:\n",
    "\n",
    "Medinc: median income in block\n",
    "\n",
    "HouseAge: median house age in block\n",
    "\n",
    "AveRooms: average number of rooms\n",
    "\n",
    "AveBedrms : average number of bedrooms\n",
    "\n",
    "AveOccup: average house occupancy\n",
    "\n",
    "Latitude: house block latitude\n",
    "\n",
    "Longitudde: house block longitude\n",
    "\n",
    "#### Target\n",
    "\n",
    "The target variable is the median house value in units of 100,000 for California distincts"
   ]
  },
  {
   "cell_type": "code",
   "execution_count": 4,
   "metadata": {},
   "outputs": [
    {
     "name": "stdout",
     "output_type": "stream",
     "text": [
      "['MedInc', 'HouseAge', 'AveRooms', 'AveBedrms', 'Population', 'AveOccup', 'Latitude', 'Longitude']\n"
     ]
    }
   ],
   "source": [
    "print(housing_data.feature_names)"
   ]
  },
  {
   "cell_type": "code",
   "execution_count": 5,
   "metadata": {},
   "outputs": [],
   "source": [
    "from sklearn.model_selection import train_test_split\n",
    "X_train_full, X_test, y_train_full, y_test = train_test_split(housing_data.data, housing_data.target, random_state=42) #access independent and dependent data \n",
    "X_train, X_valid, y_train, y_valid = train_test_split(X_train_full, y_train_full, random_state=42)"
   ]
  },
  {
   "cell_type": "markdown",
   "metadata": {},
   "source": [
    "### Standardize data"
   ]
  },
  {
   "cell_type": "code",
   "execution_count": 6,
   "metadata": {},
   "outputs": [],
   "source": [
    "from sklearn.preprocessing import StandardScaler\n",
    "scaler = StandardScaler()\n",
    "X_train = scaler.fit_transform(X_train)\n",
    "X_valid = scaler.transform(X_valid)\n",
    "X_test = scaler.transform(X_test )"
   ]
  },
  {
   "cell_type": "code",
   "execution_count": null,
   "metadata": {},
   "outputs": [],
   "source": [
    "np.random.seed(42)\n",
    "tf.random.set_seed(42)"
   ]
  },
  {
   "cell_type": "code",
   "execution_count": 7,
   "metadata": {},
   "outputs": [
    {
     "data": {
      "text/plain": [
       "(11610, 8)"
      ]
     },
     "execution_count": 7,
     "metadata": {},
     "output_type": "execute_result"
    }
   ],
   "source": [
    "X_train.shape"
   ]
  },
  {
   "cell_type": "markdown",
   "metadata": {},
   "source": [
    "### Build model architecture"
   ]
  },
  {
   "cell_type": "code",
   "execution_count": 13,
   "metadata": {},
   "outputs": [],
   "source": [
    "model = keras.models.Sequential([\n",
    "    keras.layers.Dense(30, activation=\"relu\", input_shape=[8]),\n",
    "                       keras.layers.Dense(30, activation=\"relu\"),\n",
    "                       keras.layers.Dense(1)])"
   ]
  },
  {
   "cell_type": "code",
   "execution_count": 21,
   "metadata": {},
   "outputs": [],
   "source": [
    "model.compile(loss =\"mean_squared_error\",\n",
    "              optimizer=keras.optimizers.SGD(learning_rate=1e-3),\n",
    "              metrics=[\"mae\"])"
   ]
  },
  {
   "cell_type": "code",
   "execution_count": 22,
   "metadata": {},
   "outputs": [
    {
     "name": "stdout",
     "output_type": "stream",
     "text": [
      "Model: \"sequential\"\n",
      "_________________________________________________________________\n",
      " Layer (type)                Output Shape              Param #   \n",
      "=================================================================\n",
      " dense (Dense)               (None, 30)                270       \n",
      "                                                                 \n",
      " dense_1 (Dense)             (None, 30)                930       \n",
      "                                                                 \n",
      " dense_2 (Dense)             (None, 1)                 31        \n",
      "                                                                 \n",
      "=================================================================\n",
      "Total params: 1231 (4.81 KB)\n",
      "Trainable params: 1231 (4.81 KB)\n",
      "Non-trainable params: 0 (0.00 Byte)\n",
      "_________________________________________________________________\n"
     ]
    }
   ],
   "source": [
    "model.summary()"
   ]
  },
  {
   "cell_type": "code",
   "execution_count": 30,
   "metadata": {},
   "outputs": [
    {
     "name": "stdout",
     "output_type": "stream",
     "text": [
      "Epoch 1/20\n",
      "162/162 [==============================] - 1s 3ms/step - loss: 0.3866 - mae: 0.4468 - val_loss: 0.3806 - val_mae: 0.4374\n",
      "Epoch 2/20\n",
      "162/162 [==============================] - 0s 3ms/step - loss: 0.3856 - mae: 0.4443 - val_loss: 0.3772 - val_mae: 0.4366\n",
      "Epoch 3/20\n",
      "162/162 [==============================] - 0s 3ms/step - loss: 0.3846 - mae: 0.4443 - val_loss: 0.3776 - val_mae: 0.4370\n",
      "Epoch 4/20\n",
      "162/162 [==============================] - 0s 2ms/step - loss: 0.3822 - mae: 0.4431 - val_loss: 0.3674 - val_mae: 0.4359\n",
      "Epoch 5/20\n",
      "162/162 [==============================] - 0s 3ms/step - loss: 0.3836 - mae: 0.4427 - val_loss: 0.3735 - val_mae: 0.4372\n",
      "Epoch 6/20\n",
      "162/162 [==============================] - 0s 3ms/step - loss: 0.3810 - mae: 0.4432 - val_loss: 0.3700 - val_mae: 0.4333\n",
      "Epoch 7/20\n",
      "162/162 [==============================] - 0s 3ms/step - loss: 0.3801 - mae: 0.4414 - val_loss: 0.3660 - val_mae: 0.4315\n",
      "Epoch 8/20\n",
      "162/162 [==============================] - 0s 3ms/step - loss: 0.3799 - mae: 0.4403 - val_loss: 0.3630 - val_mae: 0.4320\n",
      "Epoch 9/20\n",
      "162/162 [==============================] - 0s 3ms/step - loss: 0.3784 - mae: 0.4401 - val_loss: 0.3646 - val_mae: 0.4328\n",
      "Epoch 10/20\n",
      "162/162 [==============================] - 0s 3ms/step - loss: 0.3776 - mae: 0.4393 - val_loss: 0.3603 - val_mae: 0.4316\n",
      "Epoch 11/20\n",
      "162/162 [==============================] - 0s 3ms/step - loss: 0.3759 - mae: 0.4386 - val_loss: 0.3597 - val_mae: 0.4300\n",
      "Epoch 12/20\n",
      "162/162 [==============================] - 0s 3ms/step - loss: 0.3761 - mae: 0.4386 - val_loss: 0.3592 - val_mae: 0.4291\n",
      "Epoch 13/20\n",
      "162/162 [==============================] - 0s 3ms/step - loss: 0.3749 - mae: 0.4379 - val_loss: 0.3583 - val_mae: 0.4282\n",
      "Epoch 14/20\n",
      "162/162 [==============================] - 0s 3ms/step - loss: 0.3739 - mae: 0.4363 - val_loss: 0.3611 - val_mae: 0.4312\n",
      "Epoch 15/20\n",
      "162/162 [==============================] - 0s 3ms/step - loss: 0.3738 - mae: 0.4366 - val_loss: 0.3588 - val_mae: 0.4300\n",
      "Epoch 16/20\n",
      "162/162 [==============================] - 0s 2ms/step - loss: 0.3725 - mae: 0.4357 - val_loss: 0.3597 - val_mae: 0.4304\n",
      "Epoch 17/20\n",
      "162/162 [==============================] - 0s 3ms/step - loss: 0.3718 - mae: 0.4360 - val_loss: 0.3592 - val_mae: 0.4274\n",
      "Epoch 18/20\n",
      "162/162 [==============================] - 0s 3ms/step - loss: 0.3709 - mae: 0.4342 - val_loss: 0.3640 - val_mae: 0.4298\n",
      "Epoch 19/20\n",
      "162/162 [==============================] - 0s 3ms/step - loss: 0.3712 - mae: 0.4354 - val_loss: 0.3602 - val_mae: 0.4282\n",
      "Epoch 20/20\n",
      "162/162 [==============================] - 0s 3ms/step - loss: 0.3699 - mae: 0.4344 - val_loss: 0.3616 - val_mae: 0.4282\n"
     ]
    }
   ],
   "source": [
    "model_history = model.fit(X_test, y_test, epochs=20, validation_data=(X_valid, y_valid))"
   ]
  },
  {
   "cell_type": "code",
   "execution_count": 31,
   "metadata": {},
   "outputs": [
    {
     "name": "stdout",
     "output_type": "stream",
     "text": [
      "  1/162 [..............................] - ETA: 4s - loss: 0.3063 - mae: 0.4714"
     ]
    },
    {
     "name": "stdout",
     "output_type": "stream",
     "text": [
      "162/162 [==============================] - 0s 1ms/step - loss: 0.3690 - mae: 0.4341\n"
     ]
    }
   ],
   "source": [
    "mae_test = model.evaluate(X_test, y_test)"
   ]
  },
  {
   "cell_type": "code",
   "execution_count": 32,
   "metadata": {},
   "outputs": [
    {
     "data": {
      "text/plain": [
       "{'loss': [0.38664400577545166,\n",
       "  0.38556477427482605,\n",
       "  0.3846317231655121,\n",
       "  0.38223403692245483,\n",
       "  0.38355526328086853,\n",
       "  0.3810490667819977,\n",
       "  0.38012903928756714,\n",
       "  0.3798767030239105,\n",
       "  0.3784189224243164,\n",
       "  0.37755629420280457,\n",
       "  0.37590861320495605,\n",
       "  0.37608802318573,\n",
       "  0.3749105632305145,\n",
       "  0.3738846778869629,\n",
       "  0.3738040328025818,\n",
       "  0.37247249484062195,\n",
       "  0.3717586398124695,\n",
       "  0.37086477875709534,\n",
       "  0.3712046444416046,\n",
       "  0.3698917031288147],\n",
       " 'mae': [0.44681593775749207,\n",
       "  0.4443322420120239,\n",
       "  0.44425880908966064,\n",
       "  0.4431058168411255,\n",
       "  0.4426772892475128,\n",
       "  0.443177729845047,\n",
       "  0.44142547249794006,\n",
       "  0.44033941626548767,\n",
       "  0.4401494860649109,\n",
       "  0.4392940104007721,\n",
       "  0.43857061862945557,\n",
       "  0.43855226039886475,\n",
       "  0.43789345026016235,\n",
       "  0.43634501099586487,\n",
       "  0.4365963041782379,\n",
       "  0.4356822371482849,\n",
       "  0.43595173954963684,\n",
       "  0.4341575503349304,\n",
       "  0.4354354441165924,\n",
       "  0.43440884351730347],\n",
       " 'val_loss': [0.3806036412715912,\n",
       "  0.37719056010246277,\n",
       "  0.37757983803749084,\n",
       "  0.36738479137420654,\n",
       "  0.37345337867736816,\n",
       "  0.3699879050254822,\n",
       "  0.3659921884536743,\n",
       "  0.3629918396472931,\n",
       "  0.3646083474159241,\n",
       "  0.3602909445762634,\n",
       "  0.35972779989242554,\n",
       "  0.35918304324150085,\n",
       "  0.35825812816619873,\n",
       "  0.36114877462387085,\n",
       "  0.3588325083255768,\n",
       "  0.3596884310245514,\n",
       "  0.35920828580856323,\n",
       "  0.3640339970588684,\n",
       "  0.3601592481136322,\n",
       "  0.361619234085083],\n",
       " 'val_mae': [0.4373529553413391,\n",
       "  0.43663832545280457,\n",
       "  0.4370235502719879,\n",
       "  0.435899555683136,\n",
       "  0.43716496229171753,\n",
       "  0.43329960107803345,\n",
       "  0.4315203130245209,\n",
       "  0.43197035789489746,\n",
       "  0.43280065059661865,\n",
       "  0.43159183859825134,\n",
       "  0.43003085255622864,\n",
       "  0.4290883243083954,\n",
       "  0.42823758721351624,\n",
       "  0.4312484860420227,\n",
       "  0.4300258457660675,\n",
       "  0.4303794205188751,\n",
       "  0.4274493455886841,\n",
       "  0.4298185110092163,\n",
       "  0.42820098996162415,\n",
       "  0.4282044470310211]}"
      ]
     },
     "execution_count": 32,
     "metadata": {},
     "output_type": "execute_result"
    }
   ],
   "source": [
    "model_history.history"
   ]
  },
  {
   "cell_type": "code",
   "execution_count": 33,
   "metadata": {},
   "outputs": [
    {
     "data": {
      "image/png": "[encoded data removed]",
      "text/plain": [
       "<Figure size 800x500 with 1 Axes>"
      ]
     },
     "metadata": {},
     "output_type": "display_data"
    }
   ],
   "source": [
    "pd.DataFrame(model_history.history).plot(figsize=(8,5))\n",
    "plt.grid(True)\n",
    "plt.gca().set_ylim(0, 1)\n",
    "\n",
    "plt.show()"
   ]
  },
  {
   "cell_type": "code",
   "execution_count": 29,
   "metadata": {},
   "outputs": [],
   "source": [
    "X_new = X_test[:3]"
   ]
  },
  {
   "cell_type": "code",
   "execution_count": 34,
   "metadata": {},
   "outputs": [
    {
     "name": "stdout",
     "output_type": "stream",
     "text": [
      "1/1 [==============================] - 0s 111ms/step\n",
      "[[0.81306267]\n",
      " [1.6970671 ]\n",
      " [3.6912017 ]]\n",
      "[0.477   0.458   5.00001]\n"
     ]
    }
   ],
   "source": [
    "y_pred = model.predict(X_new)\n",
    "print(y_pred)\n",
    "print(y_test[:3])"
   ]
  }
 ],
 "metadata": {
  "kernelspec": {
   "display_name": "base",
   "language": "python",
   "name": "python3"
  },
  "language_info": {
   "codemirror_mode": {
    "name": "ipython",
    "version": 3
   },
   "file_extension": ".py",
   "mimetype": "text/x-python",
   "name": "python",
   "nbconvert_exporter": "python",
   "pygments_lexer": "ipython3",
   "version": "3.10.9"
  },
  "orig_nbformat": 4
 },
 "nbformat": 4,
 "nbformat_minor": 2
}
