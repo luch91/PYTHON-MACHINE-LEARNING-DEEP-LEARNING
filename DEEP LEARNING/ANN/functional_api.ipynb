{
 "cells": [
  {
   "cell_type": "code",
   "execution_count": 1,
   "metadata": {},
   "outputs": [],
   "source": [
    "import numpy as np\n",
    "import pandas as pd\n",
    "%matplotlib inline\n",
    "import matplotlib as mpl\n",
    "import matplotlib.pyplot as plt"
   ]
  },
  {
   "cell_type": "code",
   "execution_count": 2,
   "metadata": {},
   "outputs": [],
   "source": [
    "import tensorflow as tf\n",
    "from tensorflow import keras"
   ]
  },
  {
   "cell_type": "code",
   "execution_count": 3,
   "metadata": {},
   "outputs": [],
   "source": [
    "from sklearn.datasets import fetch_california_housing\n",
    "housing_data = fetch_california_housing()"
   ]
  },
  {
   "cell_type": "markdown",
   "metadata": {},
   "source": [
    "#### Number of Instances\n",
    "\n",
    "20640\n",
    "\n",
    "#### Number of Attributes\n",
    "\n",
    "8 numeric, predictive attributes and the target\n",
    "\n",
    "#### Attribute Information:\n",
    "\n",
    "Medinc: median income in block\n",
    "\n",
    "HouseAge: median house age in block\n",
    "\n",
    "AveRooms: average number of rooms\n",
    "\n",
    "AveBedrms : average number of bedrooms\n",
    "\n",
    "AveOccup: average house occupancy\n",
    "\n",
    "Latitude: house block latitude\n",
    "\n",
    "Longitudde: house block longitude\n",
    "\n",
    "#### Target\n",
    "\n",
    "The target variable is the median house value in units of 100,000 for California distincts"
   ]
  },
  {
   "cell_type": "code",
   "execution_count": 4,
   "metadata": {},
   "outputs": [
    {
     "name": "stdout",
     "output_type": "stream",
     "text": [
      "['MedInc', 'HouseAge', 'AveRooms', 'AveBedrms', 'Population', 'AveOccup', 'Latitude', 'Longitude']\n"
     ]
    }
   ],
   "source": [
    "print(housing_data.feature_names)"
   ]
  },
  {
   "cell_type": "code",
   "execution_count": 5,
   "metadata": {},
   "outputs": [],
   "source": [
    "from sklearn.model_selection import train_test_split\n",
    "X_train_full, X_test, y_train_full, y_test = train_test_split(housing_data.data, housing_data.target, random_state=42) #access independent and dependent data \n",
    "X_train, X_valid, y_train, y_valid = train_test_split(X_train_full, y_train_full, random_state=42)"
   ]
  },
  {
   "cell_type": "markdown",
   "metadata": {},
   "source": [
    "### Standardize data"
   ]
  },
  {
   "cell_type": "code",
   "execution_count": 6,
   "metadata": {},
   "outputs": [],
   "source": [
    "from sklearn.preprocessing import StandardScaler\n",
    "scaler = StandardScaler()\n",
    "X_train = scaler.fit_transform(X_train)\n",
    "X_valid = scaler.transform(X_valid)\n",
    "X_test = scaler.transform(X_test )"
   ]
  },
  {
   "cell_type": "code",
   "execution_count": 7,
   "metadata": {},
   "outputs": [],
   "source": [
    "np.random.seed(42)\n",
    "tf.random.set_seed(42)"
   ]
  },
  {
   "cell_type": "code",
   "execution_count": 8,
   "metadata": {},
   "outputs": [
    {
     "data": {
      "text/plain": [
       "(11610, 8)"
      ]
     },
     "execution_count": 8,
     "metadata": {},
     "output_type": "execute_result"
    }
   ],
   "source": [
    "X_train.shape"
   ]
  },
  {
   "cell_type": "code",
   "execution_count": 11,
   "metadata": {},
   "outputs": [
    {
     "data": {
      "text/html": [
       "<img src=\"functional_api.png\" width=\"400\" height=\"250\"/>"
      ],
      "text/plain": [
       "<IPython.core.display.Image object>"
      ]
     },
     "execution_count": 11,
     "metadata": {},
     "output_type": "execute_result"
    }
   ],
   "source": [
    "# import image module\n",
    "from IPython.display import Image\n",
    "# get the image\n",
    "Image(url=\"functional_api.png\", width=400, height=250)"
   ]
  },
  {
   "cell_type": "markdown",
   "metadata": {},
   "source": [
    "### Build model architecture"
   ]
  },
  {
   "cell_type": "code",
   "execution_count": 15,
   "metadata": {},
   "outputs": [],
   "source": [
    "input_ = keras.layers.Input(shape=X_train.shape[1:])\n",
    "hidden1 = keras.layers.Dense(30, activation=\"relu\")(input_)\n",
    "hidden2 = keras.layers.Dense(30, activation=\"relu\")(hidden1)\n",
    "concat = keras.layers.concatenate([input_, hidden2])\n",
    "output = keras.layers.Dense(1)(concat)\n",
    "model = keras.models.Model(inputs=[input_], outputs=[output])\n"
   ]
  },
  {
   "cell_type": "code",
   "execution_count": 16,
   "metadata": {},
   "outputs": [
    {
     "name": "stdout",
     "output_type": "stream",
     "text": [
      "Model: \"model\"\n",
      "__________________________________________________________________________________________________\n",
      " Layer (type)                Output Shape                 Param #   Connected to                  \n",
      "==================================================================================================\n",
      " input_4 (InputLayer)        [(None, 8)]                  0         []                            \n",
      "                                                                                                  \n",
      " dense_7 (Dense)             (None, 30)                   270       ['input_4[0][0]']             \n",
      "                                                                                                  \n",
      " dense_8 (Dense)             (None, 30)                   930       ['dense_7[0][0]']             \n",
      "                                                                                                  \n",
      " concatenate_2 (Concatenate  (None, 38)                   0         ['input_4[0][0]',             \n",
      " )                                                                   'dense_8[0][0]']             \n",
      "                                                                                                  \n",
      " dense_9 (Dense)             (None, 1)                    39        ['concatenate_2[0][0]']       \n",
      "                                                                                                  \n",
      "==================================================================================================\n",
      "Total params: 1239 (4.84 KB)\n",
      "Trainable params: 1239 (4.84 KB)\n",
      "Non-trainable params: 0 (0.00 Byte)\n",
      "__________________________________________________________________________________________________\n"
     ]
    }
   ],
   "source": [
    "model.summary()"
   ]
  },
  {
   "cell_type": "code",
   "execution_count": 17,
   "metadata": {},
   "outputs": [],
   "source": [
    "model.compile(loss=\"mean_squared_error\",\n",
    "              optimizer=keras.optimizers.SGD(learning_rate=1e-3),\n",
    "              metrics=[\"mae\"])"
   ]
  },
  {
   "cell_type": "code",
   "execution_count": 22,
   "metadata": {},
   "outputs": [
    {
     "name": "stdout",
     "output_type": "stream",
     "text": [
      "Epoch 1/40\n",
      "363/363 [==============================] - 1s 2ms/step - loss: 0.3707 - mae: 0.4333 - val_loss: 0.3593 - val_mae: 0.4210\n",
      "Epoch 2/40\n",
      "363/363 [==============================] - 1s 2ms/step - loss: 0.3693 - mae: 0.4326 - val_loss: 0.5322 - val_mae: 0.4324\n",
      "Epoch 3/40\n",
      "363/363 [==============================] - 1s 2ms/step - loss: 0.3695 - mae: 0.4329 - val_loss: 0.3912 - val_mae: 0.4226\n",
      "Epoch 4/40\n",
      "363/363 [==============================] - 1s 2ms/step - loss: 0.3678 - mae: 0.4314 - val_loss: 0.3558 - val_mae: 0.4225\n",
      "Epoch 5/40\n",
      "363/363 [==============================] - 1s 2ms/step - loss: 0.3671 - mae: 0.4311 - val_loss: 0.3507 - val_mae: 0.4200\n",
      "Epoch 6/40\n",
      "363/363 [==============================] - 1s 2ms/step - loss: 0.3658 - mae: 0.4306 - val_loss: 0.4385 - val_mae: 0.4241\n",
      "Epoch 7/40\n",
      "363/363 [==============================] - 1s 2ms/step - loss: 0.3659 - mae: 0.4296 - val_loss: 0.3481 - val_mae: 0.4188\n",
      "Epoch 8/40\n",
      "363/363 [==============================] - 1s 2ms/step - loss: 0.3646 - mae: 0.4293 - val_loss: 0.3409 - val_mae: 0.4167\n",
      "Epoch 9/40\n",
      "363/363 [==============================] - 1s 2ms/step - loss: 0.3636 - mae: 0.4290 - val_loss: 0.3962 - val_mae: 0.4201\n",
      "Epoch 10/40\n",
      "363/363 [==============================] - 1s 2ms/step - loss: 0.3629 - mae: 0.4281 - val_loss: 0.4030 - val_mae: 0.4201\n",
      "Epoch 11/40\n",
      "363/363 [==============================] - 1s 3ms/step - loss: 0.3626 - mae: 0.4274 - val_loss: 0.3652 - val_mae: 0.4175\n",
      "Epoch 12/40\n",
      "363/363 [==============================] - 1s 2ms/step - loss: 0.3615 - mae: 0.4271 - val_loss: 0.6584 - val_mae: 0.4287\n",
      "Epoch 13/40\n",
      "363/363 [==============================] - 1s 2ms/step - loss: 0.3628 - mae: 0.4267 - val_loss: 0.3375 - val_mae: 0.4164\n",
      "Epoch 14/40\n",
      "363/363 [==============================] - 1s 2ms/step - loss: 0.3601 - mae: 0.4258 - val_loss: 0.3432 - val_mae: 0.4165\n",
      "Epoch 15/40\n",
      "363/363 [==============================] - 1s 2ms/step - loss: 0.3593 - mae: 0.4255 - val_loss: 0.3645 - val_mae: 0.4178\n",
      "Epoch 16/40\n",
      "363/363 [==============================] - 1s 2ms/step - loss: 0.3590 - mae: 0.4253 - val_loss: 0.3356 - val_mae: 0.4142\n",
      "Epoch 17/40\n",
      "363/363 [==============================] - 1s 2ms/step - loss: 0.3578 - mae: 0.4246 - val_loss: 0.4291 - val_mae: 0.4201\n",
      "Epoch 18/40\n",
      "363/363 [==============================] - 1s 2ms/step - loss: 0.3581 - mae: 0.4243 - val_loss: 0.3409 - val_mae: 0.4131\n",
      "Epoch 19/40\n",
      "363/363 [==============================] - 1s 2ms/step - loss: 0.3564 - mae: 0.4235 - val_loss: 0.3963 - val_mae: 0.4178\n",
      "Epoch 20/40\n",
      "363/363 [==============================] - 1s 2ms/step - loss: 0.3560 - mae: 0.4230 - val_loss: 0.4514 - val_mae: 0.4212\n",
      "Epoch 21/40\n",
      "363/363 [==============================] - 1s 2ms/step - loss: 0.3558 - mae: 0.4226 - val_loss: 0.3711 - val_mae: 0.4184\n",
      "Epoch 22/40\n",
      "363/363 [==============================] - 1s 2ms/step - loss: 0.3545 - mae: 0.4225 - val_loss: 0.4810 - val_mae: 0.4225\n",
      "Epoch 23/40\n",
      "363/363 [==============================] - 1s 2ms/step - loss: 0.3546 - mae: 0.4225 - val_loss: 0.3885 - val_mae: 0.4132\n",
      "Epoch 24/40\n",
      "363/363 [==============================] - 1s 2ms/step - loss: 0.3539 - mae: 0.4211 - val_loss: 0.4673 - val_mae: 0.4195\n",
      "Epoch 25/40\n",
      "363/363 [==============================] - 1s 2ms/step - loss: 0.3531 - mae: 0.4212 - val_loss: 0.4241 - val_mae: 0.4172\n",
      "Epoch 26/40\n",
      "363/363 [==============================] - 1s 2ms/step - loss: 0.3525 - mae: 0.4207 - val_loss: 0.4051 - val_mae: 0.4159\n",
      "Epoch 27/40\n",
      "363/363 [==============================] - 1s 2ms/step - loss: 0.3522 - mae: 0.4204 - val_loss: 0.3452 - val_mae: 0.4108\n",
      "Epoch 28/40\n",
      "363/363 [==============================] - 1s 2ms/step - loss: 0.3516 - mae: 0.4198 - val_loss: 0.4593 - val_mae: 0.4197\n",
      "Epoch 29/40\n",
      "363/363 [==============================] - 1s 2ms/step - loss: 0.3513 - mae: 0.4196 - val_loss: 0.3348 - val_mae: 0.4114\n",
      "Epoch 30/40\n",
      "363/363 [==============================] - 1s 2ms/step - loss: 0.3500 - mae: 0.4192 - val_loss: 0.5170 - val_mae: 0.4194\n",
      "Epoch 31/40\n",
      "363/363 [==============================] - 1s 2ms/step - loss: 0.3506 - mae: 0.4187 - val_loss: 0.3344 - val_mae: 0.4091\n",
      "Epoch 32/40\n",
      "363/363 [==============================] - 1s 2ms/step - loss: 0.3488 - mae: 0.4185 - val_loss: 0.5108 - val_mae: 0.4209\n",
      "Epoch 33/40\n",
      "363/363 [==============================] - 1s 2ms/step - loss: 0.3496 - mae: 0.4184 - val_loss: 0.3289 - val_mae: 0.4091\n",
      "Epoch 34/40\n",
      "363/363 [==============================] - 1s 2ms/step - loss: 0.3482 - mae: 0.4177 - val_loss: 0.3527 - val_mae: 0.4117\n",
      "Epoch 35/40\n",
      "363/363 [==============================] - 1s 2ms/step - loss: 0.3475 - mae: 0.4174 - val_loss: 0.4442 - val_mae: 0.4179\n",
      "Epoch 36/40\n",
      "363/363 [==============================] - 1s 2ms/step - loss: 0.3475 - mae: 0.4174 - val_loss: 0.3605 - val_mae: 0.4097\n",
      "Epoch 37/40\n",
      "363/363 [==============================] - 1s 2ms/step - loss: 0.3472 - mae: 0.4168 - val_loss: 0.4163 - val_mae: 0.4147\n",
      "Epoch 38/40\n",
      "363/363 [==============================] - 1s 2ms/step - loss: 0.3465 - mae: 0.4168 - val_loss: 0.3255 - val_mae: 0.4066\n",
      "Epoch 39/40\n",
      "363/363 [==============================] - 1s 2ms/step - loss: 0.3457 - mae: 0.4163 - val_loss: 0.3411 - val_mae: 0.4084\n",
      "Epoch 40/40\n",
      "363/363 [==============================] - 1s 2ms/step - loss: 0.3452 - mae: 0.4162 - val_loss: 0.3492 - val_mae: 0.4071\n"
     ]
    }
   ],
   "source": [
    "model_history = model.fit(X_train, y_train, epochs=40, validation_data=[X_valid, y_valid])"
   ]
  },
  {
   "cell_type": "code",
   "execution_count": 23,
   "metadata": {},
   "outputs": [
    {
     "name": "stdout",
     "output_type": "stream",
     "text": [
      "162/162 [==============================] - 0s 1ms/step - loss: 0.3425 - mae: 0.4122\n"
     ]
    }
   ],
   "source": [
    "mae_test = model.evaluate(X_test, y_test)"
   ]
  },
  {
   "cell_type": "code",
   "execution_count": 24,
   "metadata": {},
   "outputs": [
    {
     "data": {
      "text/plain": [
       "{'loss': [0.3706859350204468,\n",
       "  0.36925366520881653,\n",
       "  0.3695021867752075,\n",
       "  0.36782559752464294,\n",
       "  0.36713504791259766,\n",
       "  0.3657987713813782,\n",
       "  0.3659031093120575,\n",
       "  0.3646324574947357,\n",
       "  0.36361584067344666,\n",
       "  0.3629312813282013,\n",
       "  0.3626379072666168,\n",
       "  0.36147966980934143,\n",
       "  0.3627627193927765,\n",
       "  0.3601326048374176,\n",
       "  0.35933366417884827,\n",
       "  0.35897353291511536,\n",
       "  0.3578163683414459,\n",
       "  0.35810530185699463,\n",
       "  0.35641807317733765,\n",
       "  0.3560374081134796,\n",
       "  0.3557874858379364,\n",
       "  0.3545180857181549,\n",
       "  0.3545662462711334,\n",
       "  0.35385945439338684,\n",
       "  0.3530721068382263,\n",
       "  0.35250425338745117,\n",
       "  0.3522074818611145,\n",
       "  0.3515748381614685,\n",
       "  0.3512926995754242,\n",
       "  0.34996965527534485,\n",
       "  0.35061052441596985,\n",
       "  0.34880897402763367,\n",
       "  0.34962475299835205,\n",
       "  0.3482179343700409,\n",
       "  0.34747225046157837,\n",
       "  0.3474973440170288,\n",
       "  0.3471912145614624,\n",
       "  0.3464847207069397,\n",
       "  0.3457275331020355,\n",
       "  0.3452083468437195],\n",
       " 'mae': [0.43331748247146606,\n",
       "  0.43262743949890137,\n",
       "  0.43287914991378784,\n",
       "  0.4314080476760864,\n",
       "  0.43106499314308167,\n",
       "  0.4305608868598938,\n",
       "  0.4296207129955292,\n",
       "  0.42926931381225586,\n",
       "  0.42899033427238464,\n",
       "  0.4281199872493744,\n",
       "  0.4274294674396515,\n",
       "  0.42709827423095703,\n",
       "  0.42666932940483093,\n",
       "  0.42577797174453735,\n",
       "  0.4254879057407379,\n",
       "  0.42531487345695496,\n",
       "  0.42464348673820496,\n",
       "  0.42431262135505676,\n",
       "  0.42350706458091736,\n",
       "  0.4229682385921478,\n",
       "  0.42264750599861145,\n",
       "  0.42247432470321655,\n",
       "  0.42246073484420776,\n",
       "  0.4211282730102539,\n",
       "  0.42115554213523865,\n",
       "  0.42071232199668884,\n",
       "  0.4203628897666931,\n",
       "  0.419756680727005,\n",
       "  0.4196056127548218,\n",
       "  0.4191770851612091,\n",
       "  0.41865915060043335,\n",
       "  0.4184587001800537,\n",
       "  0.41840678453445435,\n",
       "  0.417652428150177,\n",
       "  0.4174450635910034,\n",
       "  0.41736847162246704,\n",
       "  0.41677677631378174,\n",
       "  0.41675788164138794,\n",
       "  0.4162706136703491,\n",
       "  0.4162232279777527],\n",
       " 'val_loss': [0.3593346178531647,\n",
       "  0.5322069525718689,\n",
       "  0.39121949672698975,\n",
       "  0.35581669211387634,\n",
       "  0.3507123291492462,\n",
       "  0.43846023082733154,\n",
       "  0.3480503559112549,\n",
       "  0.3408966660499573,\n",
       "  0.39623674750328064,\n",
       "  0.4030425548553467,\n",
       "  0.3651915192604065,\n",
       "  0.658442497253418,\n",
       "  0.3375336229801178,\n",
       "  0.343200147151947,\n",
       "  0.3645153343677521,\n",
       "  0.3356300890445709,\n",
       "  0.4290750324726105,\n",
       "  0.34088945388793945,\n",
       "  0.39628031849861145,\n",
       "  0.45139312744140625,\n",
       "  0.3711407780647278,\n",
       "  0.48101216554641724,\n",
       "  0.38845008611679077,\n",
       "  0.46729719638824463,\n",
       "  0.42406466603279114,\n",
       "  0.40512317419052124,\n",
       "  0.3452472388744354,\n",
       "  0.4592897891998291,\n",
       "  0.334753155708313,\n",
       "  0.5170443654060364,\n",
       "  0.3344477117061615,\n",
       "  0.5108484029769897,\n",
       "  0.32890862226486206,\n",
       "  0.3526689410209656,\n",
       "  0.44417718052864075,\n",
       "  0.360465407371521,\n",
       "  0.41625338792800903,\n",
       "  0.3254823386669159,\n",
       "  0.34114405512809753,\n",
       "  0.34923654794692993],\n",
       " 'val_mae': [0.42095133662223816,\n",
       "  0.43236681818962097,\n",
       "  0.4225991666316986,\n",
       "  0.42249351739883423,\n",
       "  0.41995659470558167,\n",
       "  0.42405182123184204,\n",
       "  0.4188372790813446,\n",
       "  0.4167327284812927,\n",
       "  0.42005205154418945,\n",
       "  0.42005401849746704,\n",
       "  0.417456716299057,\n",
       "  0.4286784529685974,\n",
       "  0.41643887758255005,\n",
       "  0.41649049520492554,\n",
       "  0.41782131791114807,\n",
       "  0.41417476534843445,\n",
       "  0.42014214396476746,\n",
       "  0.4130682051181793,\n",
       "  0.41780632734298706,\n",
       "  0.4211546778678894,\n",
       "  0.4183797240257263,\n",
       "  0.42248210310935974,\n",
       "  0.4132152795791626,\n",
       "  0.41947731375694275,\n",
       "  0.41720932722091675,\n",
       "  0.4158758223056793,\n",
       "  0.41080012917518616,\n",
       "  0.4196678698062897,\n",
       "  0.41143670678138733,\n",
       "  0.41944003105163574,\n",
       "  0.40914636850357056,\n",
       "  0.42092859745025635,\n",
       "  0.40914949774742126,\n",
       "  0.41169822216033936,\n",
       "  0.4179419279098511,\n",
       "  0.4097368121147156,\n",
       "  0.41473230719566345,\n",
       "  0.40655142068862915,\n",
       "  0.40839922428131104,\n",
       "  0.4070703387260437]}"
      ]
     },
     "execution_count": 24,
     "metadata": {},
     "output_type": "execute_result"
    }
   ],
   "source": [
    "model_history.history"
   ]
  },
  {
   "cell_type": "code",
   "execution_count": 25,
   "metadata": {},
   "outputs": [
    {
     "data": {
      "image/png": "[encoded data removed]",
      "text/plain": [
       "<Figure size 800x500 with 1 Axes>"
      ]
     },
     "metadata": {},
     "output_type": "display_data"
    }
   ],
   "source": [
    "pd.DataFrame(model_history.history).plot(figsize=(8, 5))\n",
    "plt.grid(True)\n",
    "plt.gca().set_ylim(0, 1)\n",
    "\n",
    "plt.show()"
   ]
  },
  {
   "cell_type": "code",
   "execution_count": 38,
   "metadata": {},
   "outputs": [],
   "source": [
    "X_new = X_test[:3]"
   ]
  },
  {
   "cell_type": "code",
   "execution_count": 39,
   "metadata": {},
   "outputs": [
    {
     "name": "stdout",
     "output_type": "stream",
     "text": [
      "1/1 [==============================] - 0s 131ms/step\n",
      "[[0.712149 ]\n",
      " [1.7432051]\n",
      " [4.036184 ]]\n",
      "[0.477   0.458   5.00001]\n"
     ]
    }
   ],
   "source": [
    "y_pred = model.predict(X_new)\n",
    "print(y_pred)\n",
    "print(y_test[:3])"
   ]
  },
  {
   "cell_type": "markdown",
   "metadata": {},
   "source": [
    "#### Saving and Restoring"
   ]
  },
  {
   "cell_type": "code",
   "execution_count": 40,
   "metadata": {},
   "outputs": [],
   "source": [
    "model.save(\"my_func_model.h5\")"
   ]
  },
  {
   "cell_type": "code",
   "execution_count": 41,
   "metadata": {},
   "outputs": [],
   "source": [
    "del model"
   ]
  },
  {
   "cell_type": "code",
   "execution_count": 42,
   "metadata": {},
   "outputs": [],
   "source": [
    "model = keras.models.load_model(\"my_func_model.h5\")"
   ]
  },
  {
   "cell_type": "code",
   "execution_count": 43,
   "metadata": {},
   "outputs": [
    {
     "name": "stdout",
     "output_type": "stream",
     "text": [
      "Model: \"model\"\n",
      "__________________________________________________________________________________________________\n",
      " Layer (type)                Output Shape                 Param #   Connected to                  \n",
      "==================================================================================================\n",
      " input_4 (InputLayer)        [(None, 8)]                  0         []                            \n",
      "                                                                                                  \n",
      " dense_7 (Dense)             (None, 30)                   270       ['input_4[0][0]']             \n",
      "                                                                                                  \n",
      " dense_8 (Dense)             (None, 30)                   930       ['dense_7[0][0]']             \n",
      "                                                                                                  \n",
      " concatenate_2 (Concatenate  (None, 38)                   0         ['input_4[0][0]',             \n",
      " )                                                                   'dense_8[0][0]']             \n",
      "                                                                                                  \n",
      " dense_9 (Dense)             (None, 1)                    39        ['concatenate_2[0][0]']       \n",
      "                                                                                                  \n",
      "==================================================================================================\n",
      "Total params: 1239 (4.84 KB)\n",
      "Trainable params: 1239 (4.84 KB)\n",
      "Non-trainable params: 0 (0.00 Byte)\n",
      "__________________________________________________________________________________________________\n"
     ]
    }
   ],
   "source": [
    "model.summary()"
   ]
  },
  {
   "cell_type": "code",
   "execution_count": 44,
   "metadata": {},
   "outputs": [
    {
     "name": "stdout",
     "output_type": "stream",
     "text": [
      "1/1 [==============================] - 0s 66ms/step\n",
      "[[0.712149 ]\n",
      " [1.7432051]\n",
      " [4.036184 ]]\n"
     ]
    }
   ],
   "source": [
    "y_pred = model.predict(X_new)\n",
    "print(y_pred)"
   ]
  }
 ],
 "metadata": {
  "kernelspec": {
   "display_name": "base",
   "language": "python",
   "name": "python3"
  },
  "language_info": {
   "codemirror_mode": {
    "name": "ipython",
    "version": 3
   },
   "file_extension": ".py",
   "mimetype": "text/x-python",
   "name": "python",
   "nbconvert_exporter": "python",
   "pygments_lexer": "ipython3",
   "version": "3.10.9"
  },
  "orig_nbformat": 4
 },
 "nbformat": 4,
 "nbformat_minor": 2
}
