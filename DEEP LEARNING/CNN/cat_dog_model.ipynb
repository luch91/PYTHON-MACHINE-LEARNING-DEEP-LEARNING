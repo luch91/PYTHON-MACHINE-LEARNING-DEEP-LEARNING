{
 "cells": [
  {
   "cell_type": "code",
   "execution_count": 1,
   "metadata": {},
   "outputs": [],
   "source": [
    "import numpy as np\n",
    "import pandas as pd\n",
    "import matplotlib as mpl\n",
    "%matplotlib inline\n",
    "import os"
   ]
  },
  {
   "cell_type": "code",
   "execution_count": 2,
   "metadata": {},
   "outputs": [],
   "source": [
    "import tensorflow as tf\n",
    "from tensorflow import keras"
   ]
  },
  {
   "cell_type": "code",
   "execution_count": 6,
   "metadata": {},
   "outputs": [
    {
     "data": {
      "text/html": [
       "<img src=\"cats_and_dogs.png\" width=\"400\" height=\"300\"/>"
      ],
      "text/plain": [
       "<IPython.core.display.Image object>"
      ]
     },
     "execution_count": 6,
     "metadata": {},
     "output_type": "execute_result"
    }
   ],
   "source": [
    "from IPython.display import Image\n",
    "Image(url=\"cats_and_dogs.png\", width=400, height=300)"
   ]
  },
  {
   "cell_type": "markdown",
   "metadata": {},
   "source": [
    "Dataset contains 4,000 pictures of cats and dogs(2000 cats, 2000 dogs).\n",
    "\n",
    " 2000 pictures will be used for training, 1000 for validation and finally 1000 for testing."
   ]
  },
  {
   "cell_type": "code",
   "execution_count": 8,
   "metadata": {},
   "outputs": [
    {
     "data": {
      "text/html": [
       "<img src=\"class_img.png\" width=\"450\" height=\"300\"/>"
      ],
      "text/plain": [
       "<IPython.core.display.Image object>"
      ]
     },
     "execution_count": 8,
     "metadata": {},
     "output_type": "execute_result"
    }
   ],
   "source": [
    "from IPython.display import Image\n",
    "Image(url=\"class_img.png\", width=450, height=300)"
   ]
  },
  {
   "cell_type": "code",
   "execution_count": 9,
   "metadata": {},
   "outputs": [],
   "source": [
    "train_dir = r'C:\\Users\\user\\Desktop\\PYTHON MACHINE LEARNING & DEEP LEARNING\\PYTHON-MACHINE-LEARNING-DEEP-LEARNING\\DEEP LEARNING\\CNN\\train'\n",
    "validation_dir = r'C:\\Users\\user\\Desktop\\PYTHON MACHINE LEARNING & DEEP LEARNING\\PYTHON-MACHINE-LEARNING-DEEP-LEARNING\\DEEP LEARNING\\CNN\\validation'\n",
    "test_dir = r'C:\\Users\\user\\Desktop\\PYTHON MACHINE LEARNING & DEEP LEARNING\\PYTHON-MACHINE-LEARNING-DEEP-LEARNING\\DEEP LEARNING\\CNN\\test'"
   ]
  },
  {
   "cell_type": "markdown",
   "metadata": {},
   "source": [
    "#### Data Preprocessing\n",
    "\n",
    "1. Read the picture files.\n",
    "\n",
    "2. Decode the JPEG content to RGB grids of pixels.\n",
    "\n",
    "3. Convert these into floating point tensors.\n",
    "\n",
    "4. Rescale the pixel values(between 0 and 255) to the [0, 1] interval."
   ]
  },
  {
   "cell_type": "code",
   "execution_count": 10,
   "metadata": {},
   "outputs": [],
   "source": [
    "from tensorflow.keras.preprocessing.image import ImageDataGenerator"
   ]
  },
  {
   "cell_type": "code",
   "execution_count": 11,
   "metadata": {},
   "outputs": [
    {
     "name": "stdout",
     "output_type": "stream",
     "text": [
      "Found 2000 images belonging to 2 classes.\n",
      "Found 1000 images belonging to 2 classes.\n"
     ]
    }
   ],
   "source": [
    "# Gena=erating batches of tensor image data\n",
    "\n",
    "train_datagen = ImageDataGenerator(rescale=1./255)\n",
    "test_datagen = ImageDataGenerator(rescale=1./255)\n",
    "\n",
    "train_generator = train_datagen.flow_from_directory(\n",
    "    train_dir,\n",
    "    target_size=(150, 150),\n",
    "    batch_size=20,\n",
    "    class_mode=\"binary\"\n",
    ")\n",
    "\n",
    "validation_generator = test_datagen.flow_from_directory(\n",
    "    validation_dir,\n",
    "    target_size=(150, 150),\n",
    "    batch_size=20,\n",
    "    class_mode=\"binary\"\n",
    ")"
   ]
  },
  {
   "cell_type": "code",
   "execution_count": 12,
   "metadata": {},
   "outputs": [],
   "source": [
    "from tensorflow.keras import layers\n",
    "from tensorflow.keras import models"
   ]
  },
  {
   "cell_type": "code",
   "execution_count": 14,
   "metadata": {},
   "outputs": [],
   "source": [
    "model = models.Sequential()\n",
    "model.add(layers.Conv2D(32,(3, 3), activation=\"relu\",\n",
    "                        input_shape=(150, 150, 3)))\n",
    "model.add(layers.MaxPooling2D((2, 2)))\n",
    "\n",
    "model.add(layers.Conv2D(64, (3, 3), activation=\"relu\"))\n",
    "model.add(layers.MaxPooling2D((2, 2)))\n",
    "\n",
    "model.add(layers.Conv2D(128, (3, 3), activation=\"relu\"))\n",
    "model.add(layers.MaxPooling2D((2, 2)))\n",
    "\n",
    "model.add(layers.Conv2D(128, (3, 3), activation=\"relu\"))\n",
    "model.add(layers.MaxPooling2D((2, 2)))\n",
    "\n",
    "model.add(layers.Flatten())\n",
    "\n",
    "model.add(layers.Dense(512, activation=\"relu\"))\n",
    "\n",
    "model.add(layers.Dense(1, activation=\"sigmoid\"))"
   ]
  },
  {
   "cell_type": "code",
   "execution_count": 15,
   "metadata": {},
   "outputs": [
    {
     "name": "stdout",
     "output_type": "stream",
     "text": [
      "Model: \"sequential_1\"\n",
      "_________________________________________________________________\n",
      " Layer (type)                Output Shape              Param #   \n",
      "=================================================================\n",
      " conv2d_4 (Conv2D)           (None, 148, 148, 32)      896       \n",
      "                                                                 \n",
      " max_pooling2d_3 (MaxPoolin  (None, 74, 74, 32)        0         \n",
      " g2D)                                                            \n",
      "                                                                 \n",
      " conv2d_5 (Conv2D)           (None, 72, 72, 64)        18496     \n",
      "                                                                 \n",
      " max_pooling2d_4 (MaxPoolin  (None, 36, 36, 64)        0         \n",
      " g2D)                                                            \n",
      "                                                                 \n",
      " conv2d_6 (Conv2D)           (None, 34, 34, 128)       73856     \n",
      "                                                                 \n",
      " max_pooling2d_5 (MaxPoolin  (None, 17, 17, 128)       0         \n",
      " g2D)                                                            \n",
      "                                                                 \n",
      " conv2d_7 (Conv2D)           (None, 15, 15, 128)       147584    \n",
      "                                                                 \n",
      " max_pooling2d_6 (MaxPoolin  (None, 7, 7, 128)         0         \n",
      " g2D)                                                            \n",
      "                                                                 \n",
      " flatten (Flatten)           (None, 6272)              0         \n",
      "                                                                 \n",
      " dense (Dense)               (None, 512)               3211776   \n",
      "                                                                 \n",
      " dense_1 (Dense)             (None, 1)                 513       \n",
      "                                                                 \n",
      "=================================================================\n",
      "Total params: 3453121 (13.17 MB)\n",
      "Trainable params: 3453121 (13.17 MB)\n",
      "Non-trainable params: 0 (0.00 Byte)\n",
      "_________________________________________________________________\n"
     ]
    }
   ],
   "source": [
    "model.summary()"
   ]
  },
  {
   "cell_type": "code",
   "execution_count": 17,
   "metadata": {},
   "outputs": [],
   "source": [
    "from tensorflow.keras import optimizers\n",
    "model.compile(loss=\"binary_crossentropy\",\n",
    "              optimizer=optimizers.RMSprop(learning_rate=1e-4),\n",
    "              metrics=[\"acc\"])"
   ]
  },
  {
   "cell_type": "code",
   "execution_count": 18,
   "metadata": {},
   "outputs": [
    {
     "name": "stderr",
     "output_type": "stream",
     "text": [
      "C:\\Users\\user\\AppData\\Local\\Temp\\ipykernel_33436\\3414789983.py:1: UserWarning: `Model.fit_generator` is deprecated and will be removed in a future version. Please use `Model.fit`, which supports generators.\n",
      "  history = model.fit_generator(\n"
     ]
    },
    {
     "name": "stdout",
     "output_type": "stream",
     "text": [
      "Epoch 1/20\n",
      "100/100 [==============================] - 55s 530ms/step - loss: 0.6900 - acc: 0.5290 - val_loss: 0.6809 - val_acc: 0.5420\n",
      "Epoch 2/20\n",
      "100/100 [==============================] - 73s 736ms/step - loss: 0.6736 - acc: 0.5855 - val_loss: 0.6605 - val_acc: 0.6020\n",
      "Epoch 3/20\n",
      "100/100 [==============================] - 98s 963ms/step - loss: 0.6476 - acc: 0.6150 - val_loss: 0.6813 - val_acc: 0.5550\n",
      "Epoch 4/20\n",
      "100/100 [==============================] - 80s 801ms/step - loss: 0.6232 - acc: 0.6555 - val_loss: 0.6495 - val_acc: 0.5980\n",
      "Epoch 5/20\n",
      "100/100 [==============================] - 76s 758ms/step - loss: 0.5844 - acc: 0.6930 - val_loss: 0.6459 - val_acc: 0.6400\n",
      "Epoch 6/20\n",
      "100/100 [==============================] - 59s 593ms/step - loss: 0.5600 - acc: 0.7055 - val_loss: 0.5983 - val_acc: 0.6740\n",
      "Epoch 7/20\n",
      "100/100 [==============================] - 45s 453ms/step - loss: 0.5373 - acc: 0.7295 - val_loss: 0.6450 - val_acc: 0.6440\n",
      "Epoch 8/20\n",
      "100/100 [==============================] - 50s 496ms/step - loss: 0.5200 - acc: 0.7430 - val_loss: 0.6038 - val_acc: 0.6740\n",
      "Epoch 9/20\n",
      "100/100 [==============================] - 44s 438ms/step - loss: 0.5091 - acc: 0.7405 - val_loss: 0.5816 - val_acc: 0.6940\n",
      "Epoch 10/20\n",
      "100/100 [==============================] - 42s 418ms/step - loss: 0.4916 - acc: 0.7590 - val_loss: 0.5693 - val_acc: 0.6940\n",
      "Epoch 11/20\n",
      "100/100 [==============================] - 48s 477ms/step - loss: 0.4695 - acc: 0.7635 - val_loss: 0.5677 - val_acc: 0.6970\n",
      "Epoch 12/20\n",
      "100/100 [==============================] - 46s 457ms/step - loss: 0.4476 - acc: 0.7890 - val_loss: 0.5713 - val_acc: 0.6950\n",
      "Epoch 13/20\n",
      "100/100 [==============================] - 40s 396ms/step - loss: 0.4246 - acc: 0.8040 - val_loss: 0.5759 - val_acc: 0.6900\n",
      "Epoch 14/20\n",
      "100/100 [==============================] - 47s 471ms/step - loss: 0.4108 - acc: 0.8180 - val_loss: 0.5699 - val_acc: 0.6940\n",
      "Epoch 15/20\n",
      "100/100 [==============================] - 46s 462ms/step - loss: 0.3829 - acc: 0.8345 - val_loss: 0.5739 - val_acc: 0.7120\n",
      "Epoch 16/20\n",
      "100/100 [==============================] - 45s 450ms/step - loss: 0.3587 - acc: 0.8370 - val_loss: 0.5851 - val_acc: 0.7030\n",
      "Epoch 17/20\n",
      "100/100 [==============================] - 50s 499ms/step - loss: 0.3471 - acc: 0.8465 - val_loss: 0.5731 - val_acc: 0.7200\n",
      "Epoch 18/20\n",
      "100/100 [==============================] - 48s 477ms/step - loss: 0.3236 - acc: 0.8620 - val_loss: 0.5792 - val_acc: 0.7200\n",
      "Epoch 19/20\n",
      "100/100 [==============================] - 50s 499ms/step - loss: 0.2968 - acc: 0.8720 - val_loss: 0.6713 - val_acc: 0.6980\n",
      "Epoch 20/20\n",
      "100/100 [==============================] - 47s 472ms/step - loss: 0.2821 - acc: 0.8860 - val_loss: 0.6005 - val_acc: 0.7250\n"
     ]
    }
   ],
   "source": [
    "history = model.fit_generator(\n",
    "    train_generator,\n",
    "    steps_per_epoch=100,  ## training data/epochs\n",
    "    epochs=20,\n",
    "    validation_data=validation_generator,\n",
    "    validation_steps=50  ## validation data/epochs\n",
    "    )"
   ]
  },
  {
   "cell_type": "code",
   "execution_count": 21,
   "metadata": {},
   "outputs": [
    {
     "data": {
      "image/png": "[encoded data removed]",
      "text/plain": [
       "<Figure size 800x500 with 1 Axes>"
      ]
     },
     "metadata": {},
     "output_type": "display_data"
    }
   ],
   "source": [
    "\n",
    "import matplotlib.pyplot as plt\n",
    "pd.DataFrame(history.history).plot(figsize=(8, 5))\n",
    "plt.grid(True)\n",
    "plt.gca().set_ylim(0, 1)\n",
    "plt.show()"
   ]
  },
  {
   "cell_type": "code",
   "execution_count": 22,
   "metadata": {},
   "outputs": [
    {
     "name": "stderr",
     "output_type": "stream",
     "text": [
      "c:\\Users\\user\\anaconda3\\lib\\site-packages\\keras\\src\\engine\\training.py:3000: UserWarning: You are saving your model as an HDF5 file via `model.save()`. This file format is considered legacy. We recommend using instead the native Keras format, e.g. `model.save('my_model.keras')`.\n",
      "  saving_api.save_model(\n"
     ]
    }
   ],
   "source": [
    "model.save(\"cat_dog_model01.h5\")"
   ]
  },
  {
   "cell_type": "code",
   "execution_count": 23,
   "metadata": {},
   "outputs": [],
   "source": [
    "from tensorflow.keras import backend as K\n",
    "\n",
    "K.clear_session()\n",
    "del model"
   ]
  }
 ],
 "metadata": {
  "kernelspec": {
   "display_name": "base",
   "language": "python",
   "name": "python3"
  },
  "language_info": {
   "codemirror_mode": {
    "name": "ipython",
    "version": 3
   },
   "file_extension": ".py",
   "mimetype": "text/x-python",
   "name": "python",
   "nbconvert_exporter": "python",
   "pygments_lexer": "ipython3",
   "version": "3.10.9"
  },
  "orig_nbformat": 4
 },
 "nbformat": 4,
 "nbformat_minor": 2
}
